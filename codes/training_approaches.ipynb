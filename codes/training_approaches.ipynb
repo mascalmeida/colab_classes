{
  "nbformat": 4,
  "nbformat_minor": 0,
  "metadata": {
    "colab": {
      "name": "training_approaches.ipynb",
      "provenance": [],
      "authorship_tag": "ABX9TyPEq8eqfxAAnlGJDT9h3Jdk",
      "include_colab_link": true
    },
    "kernelspec": {
      "name": "python3",
      "display_name": "Python 3"
    },
    "language_info": {
      "name": "python"
    }
  },
  "cells": [
    {
      "cell_type": "markdown",
      "metadata": {
        "id": "view-in-github",
        "colab_type": "text"
      },
      "source": [
        "<a href=\"https://colab.research.google.com/github/mascalmeida/colab_classes/blob/main/codes/training_approaches.ipynb\" target=\"_parent\"><img src=\"https://colab.research.google.com/assets/colab-badge.svg\" alt=\"Open In Colab\"/></a>"
      ]
    },
    {
      "cell_type": "markdown",
      "metadata": {
        "id": "hZi3ZJ0MP0pu"
      },
      "source": [
        "# Dataset validation vs LOOCV vs CV (<a href=\"http://www.gamma.ufba.br/\">Gamma</a>)\n",
        "\n",
        "Docente: Karla Esquerre (<a href=\"https://github.com/kesquerre\">@kesquerre</a>)\n",
        "\n",
        "Facilitador: Lucas Mascarenhas (<a href=\"https://github.com/mascalmeida\">@mascalmeida</a>)"
      ]
    },
    {
      "cell_type": "code",
      "metadata": {
        "id": "le-eloZG-q7o"
      },
      "source": [
        "# Pacotes e Definindo a semente\n",
        "## Manipulação e visualização de dados\n",
        "import pandas as pd\n",
        "import numpy as np\n",
        "import matplotlib.pyplot as plt\n",
        "%matplotlib inline\n",
        "\n",
        "## Modelagem\n",
        "from sklearn.model_selection import train_test_split\n",
        "from sklearn.tree import DecisionTreeClassifier\n",
        "from sklearn.metrics import classification_report, confusion_matrix, plot_confusion_matrix\n",
        "\n",
        "## Setando a semente\n",
        "seed = 2021"
      ],
      "execution_count": null,
      "outputs": []
    },
    {
      "cell_type": "code",
      "metadata": {
        "colab": {
          "base_uri": "https://localhost:8080/",
          "height": 225
        },
        "id": "Etsy7k359Xzu",
        "outputId": "d0fe28d8-24d1-42e5-a705-794c41c83001"
      },
      "source": [
        "# Importando dados\n",
        "data = pd.read_csv('https://raw.githubusercontent.com/mascalmeida/colab_classes/main/datasets/water_potability.csv')\n",
        "data.head()"
      ],
      "execution_count": null,
      "outputs": [
        {
          "output_type": "execute_result",
          "data": {
            "text/html": [
              "<div>\n",
              "<style scoped>\n",
              "    .dataframe tbody tr th:only-of-type {\n",
              "        vertical-align: middle;\n",
              "    }\n",
              "\n",
              "    .dataframe tbody tr th {\n",
              "        vertical-align: top;\n",
              "    }\n",
              "\n",
              "    .dataframe thead th {\n",
              "        text-align: right;\n",
              "    }\n",
              "</style>\n",
              "<table border=\"1\" class=\"dataframe\">\n",
              "  <thead>\n",
              "    <tr style=\"text-align: right;\">\n",
              "      <th></th>\n",
              "      <th>ph</th>\n",
              "      <th>Hardness</th>\n",
              "      <th>Solids</th>\n",
              "      <th>Chloramines</th>\n",
              "      <th>Sulfate</th>\n",
              "      <th>Conductivity</th>\n",
              "      <th>Organic_carbon</th>\n",
              "      <th>Trihalomethanes</th>\n",
              "      <th>Turbidity</th>\n",
              "      <th>Potability</th>\n",
              "    </tr>\n",
              "  </thead>\n",
              "  <tbody>\n",
              "    <tr>\n",
              "      <th>0</th>\n",
              "      <td>NaN</td>\n",
              "      <td>204.890455</td>\n",
              "      <td>20791.318981</td>\n",
              "      <td>7.300212</td>\n",
              "      <td>368.516441</td>\n",
              "      <td>564.308654</td>\n",
              "      <td>10.379783</td>\n",
              "      <td>86.990970</td>\n",
              "      <td>2.963135</td>\n",
              "      <td>0</td>\n",
              "    </tr>\n",
              "    <tr>\n",
              "      <th>1</th>\n",
              "      <td>3.716080</td>\n",
              "      <td>129.422921</td>\n",
              "      <td>18630.057858</td>\n",
              "      <td>6.635246</td>\n",
              "      <td>NaN</td>\n",
              "      <td>592.885359</td>\n",
              "      <td>15.180013</td>\n",
              "      <td>56.329076</td>\n",
              "      <td>4.500656</td>\n",
              "      <td>0</td>\n",
              "    </tr>\n",
              "    <tr>\n",
              "      <th>2</th>\n",
              "      <td>8.099124</td>\n",
              "      <td>224.236259</td>\n",
              "      <td>19909.541732</td>\n",
              "      <td>9.275884</td>\n",
              "      <td>NaN</td>\n",
              "      <td>418.606213</td>\n",
              "      <td>16.868637</td>\n",
              "      <td>66.420093</td>\n",
              "      <td>3.055934</td>\n",
              "      <td>0</td>\n",
              "    </tr>\n",
              "    <tr>\n",
              "      <th>3</th>\n",
              "      <td>8.316766</td>\n",
              "      <td>214.373394</td>\n",
              "      <td>22018.417441</td>\n",
              "      <td>8.059332</td>\n",
              "      <td>356.886136</td>\n",
              "      <td>363.266516</td>\n",
              "      <td>18.436524</td>\n",
              "      <td>100.341674</td>\n",
              "      <td>4.628771</td>\n",
              "      <td>0</td>\n",
              "    </tr>\n",
              "    <tr>\n",
              "      <th>4</th>\n",
              "      <td>9.092223</td>\n",
              "      <td>181.101509</td>\n",
              "      <td>17978.986339</td>\n",
              "      <td>6.546600</td>\n",
              "      <td>310.135738</td>\n",
              "      <td>398.410813</td>\n",
              "      <td>11.558279</td>\n",
              "      <td>31.997993</td>\n",
              "      <td>4.075075</td>\n",
              "      <td>0</td>\n",
              "    </tr>\n",
              "  </tbody>\n",
              "</table>\n",
              "</div>"
            ],
            "text/plain": [
              "         ph    Hardness        Solids  ...  Trihalomethanes  Turbidity  Potability\n",
              "0       NaN  204.890455  20791.318981  ...        86.990970   2.963135           0\n",
              "1  3.716080  129.422921  18630.057858  ...        56.329076   4.500656           0\n",
              "2  8.099124  224.236259  19909.541732  ...        66.420093   3.055934           0\n",
              "3  8.316766  214.373394  22018.417441  ...       100.341674   4.628771           0\n",
              "4  9.092223  181.101509  17978.986339  ...        31.997993   4.075075           0\n",
              "\n",
              "[5 rows x 10 columns]"
            ]
          },
          "metadata": {},
          "execution_count": 2
        }
      ]
    },
    {
      "cell_type": "code",
      "metadata": {
        "colab": {
          "base_uri": "https://localhost:8080/"
        },
        "id": "LQzarnrC-xS_",
        "outputId": "33749feb-53bf-40ac-d3d4-1d93ff1dcae7"
      },
      "source": [
        "# Identificando problemas\n",
        "## Valores faltantes\n",
        "nas = pd.DataFrame(data.isna().sum()).reset_index().rename(columns={\"index\": \"variavel\", 0: \"nas\"})\n",
        "nas['nas_100'] = 100 - ((abs(len(data) - nas['nas'])/len(data))*100)\n",
        "print('Quantidade de valores faltantes')\n",
        "print(nas)\n",
        "## Dados desbalanceados\n",
        "print('\\n\\n')\n",
        "print('Balanceamento dos dados')\n",
        "print(data['Potability'].value_counts())"
      ],
      "execution_count": null,
      "outputs": [
        {
          "output_type": "stream",
          "name": "stdout",
          "text": [
            "Quantidade de valores faltantes\n",
            "          variavel  nas    nas_100\n",
            "0               ph  491  14.987790\n",
            "1         Hardness    0   0.000000\n",
            "2           Solids    0   0.000000\n",
            "3      Chloramines    0   0.000000\n",
            "4          Sulfate  781  23.840049\n",
            "5     Conductivity    0   0.000000\n",
            "6   Organic_carbon    0   0.000000\n",
            "7  Trihalomethanes  162   4.945055\n",
            "8        Turbidity    0   0.000000\n",
            "9       Potability    0   0.000000\n",
            "\n",
            "\n",
            "\n",
            "Balanceamento dos dados\n",
            "0    1998\n",
            "1    1278\n",
            "Name: Potability, dtype: int64\n"
          ]
        }
      ]
    },
    {
      "cell_type": "code",
      "metadata": {
        "colab": {
          "base_uri": "https://localhost:8080/"
        },
        "id": "pXCekbABV_qZ",
        "outputId": "0da279b1-4325-4e40-ac97-632af15f79b8"
      },
      "source": [
        "# Lidando com os valores faltantes considerando o desbalanceamento\n",
        "data_novo = data.loc[~((data['Potability'] == 0) & ((data['ph'].isna()) | (data['Sulfate'].isna()) | (data['Trihalomethanes'].isna()))), :].\\\n",
        "                  dropna(subset=['Trihalomethanes']).\\\n",
        "                  interpolate(method='linear', limit_direction='backward').\\\n",
        "                  dropna()\n",
        "# Conferindo\n",
        "## Valores faltantes\n",
        "nas = pd.DataFrame(data_novo.isna().sum()).reset_index().rename(columns={\"index\": \"variavel\", 0: \"nas\"})\n",
        "nas['nas_100'] = 100 - ((abs(len(data_novo) - nas['nas'])/len(data_novo))*100)\n",
        "print('Quantidade de valores faltantes')\n",
        "print(nas)\n",
        "## Dados desbalanceados\n",
        "print('\\n\\n')\n",
        "print('Balanceamento dos dados')\n",
        "print(data_novo['Potability'].value_counts())"
      ],
      "execution_count": null,
      "outputs": [
        {
          "output_type": "stream",
          "name": "stdout",
          "text": [
            "Quantidade de valores faltantes\n",
            "          variavel  nas  nas_100\n",
            "0               ph    0      0.0\n",
            "1         Hardness    0      0.0\n",
            "2           Solids    0      0.0\n",
            "3      Chloramines    0      0.0\n",
            "4          Sulfate    0      0.0\n",
            "5     Conductivity    0      0.0\n",
            "6   Organic_carbon    0      0.0\n",
            "7  Trihalomethanes    0      0.0\n",
            "8        Turbidity    0      0.0\n",
            "9       Potability    0      0.0\n",
            "\n",
            "\n",
            "\n",
            "Balanceamento dos dados\n",
            "1    1220\n",
            "0    1200\n",
            "Name: Potability, dtype: int64\n"
          ]
        }
      ]
    },
    {
      "cell_type": "code",
      "metadata": {
        "id": "5Gsjn_WUa7C1"
      },
      "source": [
        "# Pré processamento\n",
        "## Reservando dados para validação do modelo\n",
        "data_modelo, test = train_test_split(data_novo, \n",
        "                                     stratify=data_novo['Potability'], \n",
        "                                     random_state = seed, \n",
        "                                     test_size = 0.1)\n",
        "## Definindo entradas e saída\n",
        "### Saída\n",
        "y = data_modelo['Potability']\n",
        "### Entradas\n",
        "x = data_modelo.drop(columns=['Potability'])"
      ],
      "execution_count": null,
      "outputs": []
    },
    {
      "cell_type": "markdown",
      "metadata": {
        "id": "pVMd0h6TdwsW"
      },
      "source": [
        "## Validation approach\n",
        "![image.png](data:image/png;base64,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)"
      ]
    },
    {
      "cell_type": "code",
      "metadata": {
        "colab": {
          "base_uri": "https://localhost:8080/",
          "height": 450
        },
        "id": "8nfr1Jz1dy13",
        "outputId": "4a7b6e91-c4f9-412f-81d8-c3628e97db2b"
      },
      "source": [
        "# Pré processamento 2\n",
        "## Dividindo o dataset em treino e validação\n",
        "x_train, x_valid, y_train, y_valid = train_test_split(x, y, \n",
        "                                                      stratify=y, \n",
        "                                                      random_state = seed, \n",
        "                                                      test_size = 0.20)\n",
        "\n",
        "# Treinando o modelo (árvore de decisão)\n",
        "modelo = DecisionTreeClassifier(random_state = seed)\n",
        "modelo = modelo.fit(x_train, y_train)\n",
        "modelo1 = modelo\n",
        "# Predição e avaliação do modelo\n",
        "y_valid_pred = modelo.predict(x_valid)\n",
        "## print classification report\n",
        "print('Avaliando o modelo -----------------------\\n', classification_report(y_valid, y_valid_pred))\n",
        "##Confusion Matrix\n",
        "plot_confusion_matrix(modelo, x_valid, y_valid, normalize='true', cmap='binary')\n",
        "plt.show();"
      ],
      "execution_count": null,
      "outputs": [
        {
          "output_type": "stream",
          "name": "stdout",
          "text": [
            "Avaliando o modelo -----------------------\n",
            "               precision    recall  f1-score   support\n",
            "\n",
            "           0       0.55      0.53      0.54       216\n",
            "           1       0.55      0.56      0.56       220\n",
            "\n",
            "    accuracy                           0.55       436\n",
            "   macro avg       0.55      0.55      0.55       436\n",
            "weighted avg       0.55      0.55      0.55       436\n",
            "\n"
          ]
        },
        {
          "output_type": "display_data",
          "data": {
            "image/png": "[encoded data removed]",
            "text/plain": [
              "<Figure size 432x288 with 2 Axes>"
            ]
          },
          "metadata": {
            "needs_background": "light"
          }
        }
      ]
    },
    {
      "cell_type": "markdown",
      "metadata": {
        "id": "ZomMYKdBkoSw"
      },
      "source": [
        "## Cross-validation\n",
        "\n",
        "![image.png](data:image/png;base64,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)"
      ]
    },
    {
      "cell_type": "code",
      "metadata": {
        "colab": {
          "base_uri": "https://localhost:8080/",
          "height": 128
        },
        "id": "7Ss59Wp9kyBW",
        "outputId": "f05d4032-2c15-44c9-a54d-f09af7f16f7e"
      },
      "source": [
        "# Modelagem\n",
        "from sklearn.model_selection import GridSearchCV\n",
        "# Importando o Make Scorer\n",
        "from sklearn.metrics import make_scorer\n",
        "# Importando os módulos de cálculo de métricas\n",
        "from sklearn.metrics import precision_score\n",
        "from sklearn.metrics import accuracy_score\n",
        "from sklearn.metrics import recall_score\n",
        "from sklearn.metrics import fbeta_score\n",
        "\n",
        "# Criando um dicionário com as métricas que desejo calcular.\n",
        "meus_scores = {'accuracy' :make_scorer(accuracy_score),\n",
        "               'recall'   :make_scorer(recall_score),\n",
        "               'precision':make_scorer(precision_score),\n",
        "               'f1'       :make_scorer(fbeta_score, beta = 1)}\n",
        "\n",
        "\n",
        "# Definindo o 'K' para o K-Fold\n",
        "k = 5\n",
        "## Defining parameter range to grid search\n",
        "param_grid = [{'splitter': ['best', 'random']}]\n",
        "# Treinando o modelo (árvore de decisão)\n",
        "clf = DecisionTreeClassifier(random_state = seed)\n",
        "modelo = GridSearchCV(estimator=clf,\n",
        "                      param_grid=param_grid,\n",
        "                      scoring = meus_scores,\n",
        "                      refit = 'f1',\n",
        "                      cv=k)\n",
        "modelo.fit(x, y);\n",
        "modelo2 = modelo\n",
        "# Results\n",
        "print('Model =', modelo.best_params_)\n",
        "display(pd.DataFrame(modelo.cv_results_)[['params', 'mean_test_accuracy','mean_test_precision','mean_test_recall','mean_test_f1']])"
      ],
      "execution_count": null,
      "outputs": [
        {
          "output_type": "stream",
          "name": "stdout",
          "text": [
            "Model = {'splitter': 'best'}\n"
          ]
        },
        {
          "output_type": "display_data",
          "data": {
            "text/html": [
              "<div>\n",
              "<style scoped>\n",
              "    .dataframe tbody tr th:only-of-type {\n",
              "        vertical-align: middle;\n",
              "    }\n",
              "\n",
              "    .dataframe tbody tr th {\n",
              "        vertical-align: top;\n",
              "    }\n",
              "\n",
              "    .dataframe thead th {\n",
              "        text-align: right;\n",
              "    }\n",
              "</style>\n",
              "<table border=\"1\" class=\"dataframe\">\n",
              "  <thead>\n",
              "    <tr style=\"text-align: right;\">\n",
              "      <th></th>\n",
              "      <th>params</th>\n",
              "      <th>mean_test_accuracy</th>\n",
              "      <th>mean_test_precision</th>\n",
              "      <th>mean_test_recall</th>\n",
              "      <th>mean_test_f1</th>\n",
              "    </tr>\n",
              "  </thead>\n",
              "  <tbody>\n",
              "    <tr>\n",
              "      <th>0</th>\n",
              "      <td>{'splitter': 'best'}</td>\n",
              "      <td>0.561981</td>\n",
              "      <td>0.564843</td>\n",
              "      <td>0.566488</td>\n",
              "      <td>0.565572</td>\n",
              "    </tr>\n",
              "    <tr>\n",
              "      <th>1</th>\n",
              "      <td>{'splitter': 'random'}</td>\n",
              "      <td>0.556911</td>\n",
              "      <td>0.561438</td>\n",
              "      <td>0.556430</td>\n",
              "      <td>0.558771</td>\n",
              "    </tr>\n",
              "  </tbody>\n",
              "</table>\n",
              "</div>"
            ],
            "text/plain": [
              "                   params  mean_test_accuracy  ...  mean_test_recall  mean_test_f1\n",
              "0    {'splitter': 'best'}            0.561981  ...          0.566488      0.565572\n",
              "1  {'splitter': 'random'}            0.556911  ...          0.556430      0.558771\n",
              "\n",
              "[2 rows x 5 columns]"
            ]
          },
          "metadata": {}
        }
      ]
    },
    {
      "cell_type": "code",
      "metadata": {
        "colab": {
          "base_uri": "https://localhost:8080/",
          "height": 128
        },
        "id": "BRpBs1JUbIWn",
        "outputId": "1c9f70a4-2e50-4f36-994b-bf2b96736e67"
      },
      "source": [
        "# Criando um dicionário com as métricas que desejo calcular.\n",
        "meus_scores = {'accuracy' :make_scorer(accuracy_score),\n",
        "               'recall'   :make_scorer(recall_score),\n",
        "               'precision':make_scorer(precision_score),\n",
        "               'f1'       :make_scorer(fbeta_score, beta = 1)}\n",
        "\n",
        "\n",
        "# Definindo o 'K' para o K-Fold\n",
        "k = 10\n",
        "## Defining parameter range to grid search\n",
        "param_grid = [{'splitter': ['best', 'random']}]\n",
        "# Treinando o modelo (árvore de decisão)\n",
        "clf = DecisionTreeClassifier(random_state = seed)\n",
        "modelo = GridSearchCV(estimator=clf,\n",
        "                      param_grid=param_grid,\n",
        "                      scoring = meus_scores,\n",
        "                      refit = 'f1',\n",
        "                      cv=k)\n",
        "modelo.fit(x, y);\n",
        "modelo10 = modelo\n",
        "# Results\n",
        "print('Model =', modelo.best_params_)\n",
        "display(pd.DataFrame(modelo.cv_results_)[['params', 'mean_test_accuracy','mean_test_precision','mean_test_recall','mean_test_f1']])"
      ],
      "execution_count": null,
      "outputs": [
        {
          "output_type": "stream",
          "name": "stdout",
          "text": [
            "Model = {'splitter': 'best'}\n"
          ]
        },
        {
          "output_type": "display_data",
          "data": {
            "text/html": [
              "<div>\n",
              "<style scoped>\n",
              "    .dataframe tbody tr th:only-of-type {\n",
              "        vertical-align: middle;\n",
              "    }\n",
              "\n",
              "    .dataframe tbody tr th {\n",
              "        vertical-align: top;\n",
              "    }\n",
              "\n",
              "    .dataframe thead th {\n",
              "        text-align: right;\n",
              "    }\n",
              "</style>\n",
              "<table border=\"1\" class=\"dataframe\">\n",
              "  <thead>\n",
              "    <tr style=\"text-align: right;\">\n",
              "      <th></th>\n",
              "      <th>params</th>\n",
              "      <th>mean_test_accuracy</th>\n",
              "      <th>mean_test_precision</th>\n",
              "      <th>mean_test_recall</th>\n",
              "      <th>mean_test_f1</th>\n",
              "    </tr>\n",
              "  </thead>\n",
              "  <tbody>\n",
              "    <tr>\n",
              "      <th>0</th>\n",
              "      <td>{'splitter': 'best'}</td>\n",
              "      <td>0.569776</td>\n",
              "      <td>0.573132</td>\n",
              "      <td>0.571802</td>\n",
              "      <td>0.571021</td>\n",
              "    </tr>\n",
              "    <tr>\n",
              "      <th>1</th>\n",
              "      <td>{'splitter': 'random'}</td>\n",
              "      <td>0.554196</td>\n",
              "      <td>0.559937</td>\n",
              "      <td>0.545471</td>\n",
              "      <td>0.551790</td>\n",
              "    </tr>\n",
              "  </tbody>\n",
              "</table>\n",
              "</div>"
            ],
            "text/plain": [
              "                   params  mean_test_accuracy  ...  mean_test_recall  mean_test_f1\n",
              "0    {'splitter': 'best'}            0.569776  ...          0.571802      0.571021\n",
              "1  {'splitter': 'random'}            0.554196  ...          0.545471      0.551790\n",
              "\n",
              "[2 rows x 5 columns]"
            ]
          },
          "metadata": {}
        }
      ]
    },
    {
      "cell_type": "code",
      "metadata": {
        "colab": {
          "base_uri": "https://localhost:8080/"
        },
        "id": "iUDL32LCc9Bx",
        "outputId": "6d028765-04bd-4035-f2f4-9a4e07f8bb7a"
      },
      "source": [
        "print(y.value_counts())"
      ],
      "execution_count": null,
      "outputs": [
        {
          "output_type": "stream",
          "name": "stdout",
          "text": [
            "1    1098\n",
            "0    1080\n",
            "Name: Potability, dtype: int64\n"
          ]
        }
      ]
    },
    {
      "cell_type": "code",
      "metadata": {
        "id": "2gTvLd1UbMZL"
      },
      "source": [
        "# Criando um dicionário com as métricas que desejo calcular.\n",
        "meus_scores = {'accuracy' :make_scorer(accuracy_score),\n",
        "               'recall'   :make_scorer(recall_score),\n",
        "               'precision':make_scorer(precision_score),\n",
        "               'f1'       :make_scorer(fbeta_score, beta = 1)}\n",
        "\n",
        "\n",
        "# Definindo o 'K' para o K-Fold\n",
        "k = 1080\n",
        "## Defining parameter range to grid search\n",
        "param_grid = [{'splitter': ['best', 'random']}]\n",
        "# Treinando o modelo (árvore de decisão)\n",
        "clf = DecisionTreeClassifier(random_state = seed)\n",
        "modelo = GridSearchCV(estimator=clf,\n",
        "                      param_grid=param_grid,\n",
        "                      scoring = meus_scores,\n",
        "                      refit = 'f1',\n",
        "                      cv=k)\n",
        "modelo.fit(x, y);\n",
        "LOOCV = modelo\n",
        "# Results\n",
        "print('Model =', modelo.best_params_)\n",
        "display(pd.DataFrame(modelo.cv_results_)[['params', 'mean_test_accuracy','mean_test_precision','mean_test_recall','mean_test_f1']])"
      ],
      "execution_count": null,
      "outputs": []
    },
    {
      "cell_type": "code",
      "metadata": {
        "id": "2CihB8YOXNf2"
      },
      "source": [
        "## Definindo entradas e saída\n",
        "### Saída\n",
        "y_test = test['Potability']\n",
        "### Entradas\n",
        "x_test = test.drop(columns=['Potability'])"
      ],
      "execution_count": null,
      "outputs": []
    },
    {
      "cell_type": "code",
      "metadata": {
        "colab": {
          "base_uri": "https://localhost:8080/",
          "height": 454
        },
        "id": "yd5mKJU7W-uk",
        "outputId": "34e667cc-737d-47f5-f6b4-6d8fa46d5055"
      },
      "source": [
        "# Predição e avaliação do modelo 1\n",
        "y1 = modelo1.predict(x_test)\n",
        "## print classification report\n",
        "print('Avaliando o modelo 1 -----------------------\\n', classification_report(y_test, y1))\n",
        "##Confusion Matrix\n",
        "plot_confusion_matrix(modelo1, x_test, y_test, normalize='true', cmap='binary')\n",
        "plt.show();"
      ],
      "execution_count": null,
      "outputs": [
        {
          "output_type": "stream",
          "name": "stdout",
          "text": [
            "Avaliando o modelo 1 -----------------------\n",
            "               precision    recall  f1-score   support\n",
            "\n",
            "           0       0.55      0.60      0.57       120\n",
            "           1       0.57      0.52      0.54       122\n",
            "\n",
            "    accuracy                           0.56       242\n",
            "   macro avg       0.56      0.56      0.56       242\n",
            "weighted avg       0.56      0.56      0.56       242\n",
            "\n"
          ]
        },
        {
          "output_type": "display_data",
          "data": {
            "image/png": "[encoded data removed]",
            "text/plain": [
              "<Figure size 432x288 with 2 Axes>"
            ]
          },
          "metadata": {
            "needs_background": "light"
          }
        }
      ]
    },
    {
      "cell_type": "code",
      "metadata": {
        "colab": {
          "base_uri": "https://localhost:8080/",
          "height": 450
        },
        "id": "pJSRA1yIXERL",
        "outputId": "8883f500-3d9f-427a-90f7-3725026c2846"
      },
      "source": [
        "# Predição e avaliação do modelo 2\n",
        "y2 = modelo2.predict(x_test)\n",
        "## print classification report\n",
        "print('Avaliando o modelo 2 -----------------------\\n', classification_report(y_test, y2))\n",
        "##Confusion Matrix\n",
        "plot_confusion_matrix(modelo2, x_test, y_test, normalize='true', cmap='binary')\n",
        "plt.show();"
      ],
      "execution_count": null,
      "outputs": [
        {
          "output_type": "stream",
          "name": "stdout",
          "text": [
            "Avaliando o modelo 2 -----------------------\n",
            "               precision    recall  f1-score   support\n",
            "\n",
            "           0       0.61      0.54      0.58       120\n",
            "           1       0.60      0.66      0.63       122\n",
            "\n",
            "    accuracy                           0.60       242\n",
            "   macro avg       0.60      0.60      0.60       242\n",
            "weighted avg       0.60      0.60      0.60       242\n",
            "\n"
          ]
        },
        {
          "output_type": "display_data",
          "data": {
            "image/png": "[encoded data removed]",
            "text/plain": [
              "<Figure size 432x288 with 2 Axes>"
            ]
          },
          "metadata": {
            "needs_background": "light"
          }
        }
      ]
    },
    {
      "cell_type": "code",
      "metadata": {
        "colab": {
          "base_uri": "https://localhost:8080/",
          "height": 450
        },
        "id": "z2GLDlEPb9EX",
        "outputId": "95e305d0-6136-4f26-e331-2922150032c4"
      },
      "source": [
        "# Predição e avaliação do modelo 10\n",
        "y10 = modelo10.predict(x_test)\n",
        "## print classification report\n",
        "print('Avaliando o modelo 10 -----------------------\\n', classification_report(y_test, y10))\n",
        "##Confusion Matrix\n",
        "plot_confusion_matrix(modelo10, x_test, y_test, normalize='true', cmap='binary')\n",
        "plt.show();"
      ],
      "execution_count": null,
      "outputs": [
        {
          "output_type": "stream",
          "name": "stdout",
          "text": [
            "Avaliando o modelo 10 -----------------------\n",
            "               precision    recall  f1-score   support\n",
            "\n",
            "           0       0.61      0.54      0.58       120\n",
            "           1       0.60      0.66      0.63       122\n",
            "\n",
            "    accuracy                           0.60       242\n",
            "   macro avg       0.60      0.60      0.60       242\n",
            "weighted avg       0.60      0.60      0.60       242\n",
            "\n"
          ]
        },
        {
          "output_type": "display_data",
          "data": {
            "image/png": "[encoded data removed]",
            "text/plain": [
              "<Figure size 432x288 with 2 Axes>"
            ]
          },
          "metadata": {
            "needs_background": "light"
          }
        }
      ]
    },
    {
      "cell_type": "code",
      "metadata": {
        "colab": {
          "base_uri": "https://localhost:8080/",
          "height": 450
        },
        "id": "llwn7fHecECv",
        "outputId": "144bb70f-37d6-4052-c3a5-4b2337b395d0"
      },
      "source": [
        "# Predição e avaliação do modelo LOOCV\n",
        "yLOOCV = LOOCV.predict(x_test)\n",
        "## print classification report\n",
        "print('Avaliando o LOOCV -----------------------\\n', classification_report(y_test, yLOOCV))\n",
        "##Confusion Matrix\n",
        "plot_confusion_matrix(LOOCV, x_test, y_test, normalize=None, cmap='binary')\n",
        "plt.show();"
      ],
      "execution_count": null,
      "outputs": [
        {
          "output_type": "stream",
          "name": "stdout",
          "text": [
            "Avaliando o LOOCV -----------------------\n",
            "               precision    recall  f1-score   support\n",
            "\n",
            "           0       0.61      0.54      0.58       120\n",
            "           1       0.60      0.66      0.63       122\n",
            "\n",
            "    accuracy                           0.60       242\n",
            "   macro avg       0.60      0.60      0.60       242\n",
            "weighted avg       0.60      0.60      0.60       242\n",
            "\n"
          ]
        },
        {
          "output_type": "display_data",
          "data": {
            "image/png": "[encoded data removed]",
            "text/plain": [
              "<Figure size 432x288 with 2 Axes>"
            ]
          },
          "metadata": {
            "needs_background": "light"
          }
        }
      ]
    },
    {
      "cell_type": "markdown",
      "metadata": {
        "id": "JaOm0Dmp_8P4"
      },
      "source": [
        "**REFERÊNCIAS**\n",
        "\n",
        "\n",
        "*   [Kaggle - Water Quality](https://www.kaggle.com/adityakadiwal/water-potability)\n",
        "*   List item\n",
        "\n"
      ]
    }
  ]
}